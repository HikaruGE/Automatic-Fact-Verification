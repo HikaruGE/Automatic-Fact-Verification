{
 "cells": [
  {
   "cell_type": "code",
   "execution_count": 1,
   "metadata": {},
   "outputs": [],
   "source": [
    "from whoosh.index import open_dir\n",
    "ix = open_dir(\"wiki_index_dir\")"
   ]
  },
  {
   "cell_type": "code",
   "execution_count": 11,
   "metadata": {},
   "outputs": [
    {
     "name": "stdout",
     "output_type": "stream",
     "text": [
      "[nltk_data] Downloading package wordnet to /Users/yigewen/nltk_data...\n",
      "[nltk_data]   Package wordnet is already up-to-date!\n"
     ]
    }
   ],
   "source": [
    "import nltk\n",
    "from nltk.corpus import stopwords\n",
    "\n",
    "nltk.download('wordnet')\n",
    "lemmatizer = nltk.stem.wordnet.WordNetLemmatizer()\n",
    "\n",
    "def lemmatize(word):\n",
    "    lemma = lemmatizer.lemmatize(word,'v')\n",
    "    if lemma == word:\n",
    "        lemma = lemmatizer.lemmatize(word,'n')\n",
    "    return lemma\n",
    "\n",
    "sw = stopwords.words('english') + ['!',',','.','?','\\s',\"\\n\",\"-lrb-\",\"-rrb-\"]\n",
    "\n",
    "def pre_process(sentence):\n",
    "    tokens = nltk.word_tokenize(sentence)\n",
    "    tokens = [lemmatize(t) for t in tokens]\n",
    "    tokens = [t.lower() for t in tokens]\n",
    "    tokens =  [t for t in tokens if t not in sw]\n",
    "    return tokens"
   ]
  },
  {
   "cell_type": "code",
   "execution_count": 8,
   "metadata": {},
   "outputs": [
    {
     "name": "stdout",
     "output_type": "stream",
     "text": [
      "martial art movie\n"
     ]
    }
   ],
   "source": [
    "manQuery = pre_process(\"martial arts movie\")\n",
    "manQuery = \" \".join(manQuery) \n",
    "print(manQuery)"
   ]
  },
  {
   "cell_type": "code",
   "execution_count": 9,
   "metadata": {},
   "outputs": [
    {
     "name": "stdout",
     "output_type": "stream",
     "text": [
      "(content:martial AND content:art AND content:movie)\n",
      "Ninjas_&_Superspies 71\n",
      "Karate 52\n",
      "Jhoon_Goo_Rhee 49\n",
      "Simhalan_Madhava_Panicker 87\n",
      "Serhat_Arvas 88\n",
      "Hsiao_Ho_-LRB-actor-RRB- 44\n",
      "Hussain_Sadiqi 44\n",
      "Ric_Meyers 81\n",
      "The_Nritarutya_Dance_Collective 96\n",
      "Kung_fu_-LRB-term-RRB- 55\n",
      "Time used: 9.512370999999995\n"
     ]
    }
   ],
   "source": [
    "from whoosh.qparser import QueryParser\n",
    "from whoosh import scoring\n",
    "import time\n",
    "from whoosh import qparser\n",
    "\n",
    "start = time.clock()\n",
    "parser = QueryParser(\"content\", ix.schema)\n",
    "\n",
    "with ix.searcher(weighting=scoring.TF_IDF()) as searcher1:\n",
    "    query = parser.parse(\"martial art movie\")\n",
    "    print(query)\n",
    "    results = searcher1.search(query)\n",
    "    for hit in results:\n",
    "        print(hit['doc'],hit['wiki'])\n",
    "        \n",
    "elapsed = (time.clock() - start)\n",
    "print(\"Time used:\",elapsed)"
   ]
  },
  {
   "cell_type": "code",
   "execution_count": 63,
   "metadata": {},
   "outputs": [
    {
     "name": "stdout",
     "output_type": "stream",
     "text": [
      "[{'doc': '21_Jump_Street', 'wiki': 2}]\n"
     ]
    }
   ],
   "source": [
    "print(list(ix.searcher().documents(doc = '21_Jump_Street')))"
   ]
  },
  {
   "cell_type": "code",
   "execution_count": null,
   "metadata": {},
   "outputs": [],
   "source": []
  }
 ],
 "metadata": {
  "kernelspec": {
   "display_name": "Python 3",
   "language": "python",
   "name": "python3"
  },
  "language_info": {
   "codemirror_mode": {
    "name": "ipython",
    "version": 3
   },
   "file_extension": ".py",
   "mimetype": "text/x-python",
   "name": "python",
   "nbconvert_exporter": "python",
   "pygments_lexer": "ipython3",
   "version": "3.6.8"
  }
 },
 "nbformat": 4,
 "nbformat_minor": 2
}
